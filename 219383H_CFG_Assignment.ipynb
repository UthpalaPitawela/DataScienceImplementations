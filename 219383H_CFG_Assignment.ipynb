{
  "nbformat": 4,
  "nbformat_minor": 0,
  "metadata": {
    "colab": {
      "name": "219383H - CFG Assignment.ipynb",
      "provenance": [],
      "collapsed_sections": [],
      "authorship_tag": "ABX9TyO3QL41kJLC9SGfQUREyUsL",
      "include_colab_link": true
    },
    "kernelspec": {
      "name": "python3",
      "display_name": "Python 3"
    },
    "language_info": {
      "name": "python"
    }
  },
  "cells": [
    {
      "cell_type": "markdown",
      "metadata": {
        "id": "view-in-github",
        "colab_type": "text"
      },
      "source": [
        "<a href=\"https://colab.research.google.com/github/UthpalaPitawela/Data_Science_Implementations/blob/main/219383H_CFG_Assignment.ipynb\" target=\"_parent\"><img src=\"https://colab.research.google.com/assets/colab-badge.svg\" alt=\"Open In Colab\"/></a>"
      ]
    },
    {
      "cell_type": "markdown",
      "metadata": {
        "id": "gyCwFcD7XYB0"
      },
      "source": [
        "Three Grammar Parsers"
      ]
    },
    {
      "cell_type": "code",
      "metadata": {
        "id": "pcWLLtSavDXV"
      },
      "source": [
        "import nltk"
      ],
      "execution_count": 102,
      "outputs": []
    },
    {
      "cell_type": "code",
      "metadata": {
        "id": "w4taMlAAQekC"
      },
      "source": [
        "grammar = nltk.CFG.fromstring(\"\"\"\n",
        "  S -> VP NP\n",
        "  VP -> Aux PN VP | V \n",
        "  NP -> N | PN NP | Det NP \n",
        "  V -> \"book\"\n",
        "  N -> \"flight\" | \"flights\" | \"book\"\n",
        "  Det -> \"that\"\n",
        "  Aux -> \"can\"\n",
        "  PN -> \"you\" | \"TWA\"\n",
        "  \"\"\")"
      ],
      "execution_count": 103,
      "outputs": []
    },
    {
      "cell_type": "markdown",
      "metadata": {
        "id": "mPlSICphL9eW"
      },
      "source": [
        "Top Down Parser: Recursive Descent Parser"
      ]
    },
    {
      "cell_type": "code",
      "metadata": {
        "colab": {
          "base_uri": "https://localhost:8080/"
        },
        "id": "MoRyLU6fStAi",
        "outputId": "b5bc4561-99fa-4130-a147-3e8b129a7616"
      },
      "source": [
        "sent1 = \"book that flight\".split()\n",
        "rd_parser = nltk.RecursiveDescentParser(grammar, trace=3)\n",
        "for tree in rd_parser.parse(sent1):\n",
        "  print(tree)"
      ],
      "execution_count": 111,
      "outputs": [
        {
          "output_type": "stream",
          "text": [
            "Parsing 'book that flight'\n",
            "Start:\n",
            "    [ * S ]\n",
            "Expand: S -> VP NP\n",
            "    [ * VP NP ]\n",
            "Expand: VP -> Aux PN VP\n",
            "    [ * Aux PN VP NP ]\n",
            "Expand: Aux -> 'can'\n",
            "    [ * 'can' PN VP NP ]\n",
            "Backtrack: 'book' match failed\n",
            "Expand: VP -> V\n",
            "    [ * V NP ]\n",
            "Expand: V -> 'book'\n",
            "    [ * 'book' NP ]\n",
            "Match: 'book'\n",
            "    [ 'book' * NP ]\n",
            "Expand: NP -> N\n",
            "    [ 'book' * N ]\n",
            "Expand: N -> 'flight'\n",
            "    [ 'book' * 'flight' ]\n",
            "Backtrack: 'that' match failed\n",
            "Expand: N -> 'flights'\n",
            "    [ 'book' * 'flights' ]\n",
            "Backtrack: 'that' match failed\n",
            "Expand: N -> 'book'\n",
            "    [ 'book' * 'book' ]\n",
            "Backtrack: 'that' match failed\n",
            "Expand: NP -> PN NP\n",
            "    [ 'book' * PN NP ]\n",
            "Expand: PN -> 'you'\n",
            "    [ 'book' * 'you' NP ]\n",
            "Backtrack: 'that' match failed\n",
            "Expand: PN -> 'TWA'\n",
            "    [ 'book' * 'TWA' NP ]\n",
            "Backtrack: 'that' match failed\n",
            "Expand: NP -> Det NP\n",
            "    [ 'book' * Det NP ]\n",
            "Expand: Det -> 'that'\n",
            "    [ 'book' * 'that' NP ]\n",
            "Match: 'that'\n",
            "    [ 'book' 'that' * NP ]\n",
            "Expand: NP -> N\n",
            "    [ 'book' 'that' * N ]\n",
            "Expand: N -> 'flight'\n",
            "    [ 'book' 'that' * 'flight' ]\n",
            "Match: 'flight'\n",
            "    [ 'book' 'that' 'flight' ]\n",
            "GOOD PARSE:\n",
            "    [ 'book' 'that' 'flight' ]\n",
            "(S (VP (V book)) (NP (Det that) (NP (N flight))))\n",
            "Expand: N -> 'flights'\n",
            "    [ 'book' 'that' * 'flights' ]\n",
            "Backtrack: 'flight' match failed\n",
            "Expand: N -> 'book'\n",
            "    [ 'book' 'that' * 'book' ]\n",
            "Backtrack: 'flight' match failed\n",
            "Expand: NP -> PN NP\n",
            "    [ 'book' 'that' * PN NP ]\n",
            "Expand: PN -> 'you'\n",
            "    [ 'book' 'that' * 'you' NP ]\n",
            "Backtrack: 'flight' match failed\n",
            "Expand: PN -> 'TWA'\n",
            "    [ 'book' 'that' * 'TWA' NP ]\n",
            "Backtrack: 'flight' match failed\n",
            "Expand: NP -> Det NP\n",
            "    [ 'book' 'that' * Det NP ]\n",
            "Expand: Det -> 'that'\n",
            "    [ 'book' 'that' * 'that' NP ]\n",
            "Backtrack: 'flight' match failed\n"
          ],
          "name": "stdout"
        }
      ]
    },
    {
      "cell_type": "code",
      "metadata": {
        "id": "rjPW-ij22rLQ",
        "colab": {
          "base_uri": "https://localhost:8080/"
        },
        "outputId": "a7f32494-c1d3-43a4-a083-beb03471baad"
      },
      "source": [
        "sent2 = 'can you book TWA flights'.split()\n",
        "rd_parser = nltk.RecursiveDescentParser(grammar, trace=3)\n",
        "for tree in rd_parser.parse(sent1):\n",
        "  print(tree)"
      ],
      "execution_count": 105,
      "outputs": [
        {
          "output_type": "stream",
          "text": [
            "Parsing 'book that flight'\n",
            "Start:\n",
            "    [ * S ]\n",
            "Expand: S -> VP NP\n",
            "    [ * VP NP ]\n",
            "Expand: VP -> Aux PN VP\n",
            "    [ * Aux PN VP NP ]\n",
            "Expand: Aux -> 'can'\n",
            "    [ * 'can' PN VP NP ]\n",
            "Backtrack: 'book' match failed\n",
            "Expand: VP -> V\n",
            "    [ * V NP ]\n",
            "Expand: V -> 'book'\n",
            "    [ * 'book' NP ]\n",
            "Match: 'book'\n",
            "    [ 'book' * NP ]\n",
            "Expand: NP -> N\n",
            "    [ 'book' * N ]\n",
            "Expand: N -> 'flight'\n",
            "    [ 'book' * 'flight' ]\n",
            "Backtrack: 'that' match failed\n",
            "Expand: N -> 'flights'\n",
            "    [ 'book' * 'flights' ]\n",
            "Backtrack: 'that' match failed\n",
            "Expand: N -> 'book'\n",
            "    [ 'book' * 'book' ]\n",
            "Backtrack: 'that' match failed\n",
            "Expand: NP -> PN NP\n",
            "    [ 'book' * PN NP ]\n",
            "Expand: PN -> 'you'\n",
            "    [ 'book' * 'you' NP ]\n",
            "Backtrack: 'that' match failed\n",
            "Expand: PN -> 'TWA'\n",
            "    [ 'book' * 'TWA' NP ]\n",
            "Backtrack: 'that' match failed\n",
            "Expand: NP -> Det NP\n",
            "    [ 'book' * Det NP ]\n",
            "Expand: Det -> 'that'\n",
            "    [ 'book' * 'that' NP ]\n",
            "Match: 'that'\n",
            "    [ 'book' 'that' * NP ]\n",
            "Expand: NP -> N\n",
            "    [ 'book' 'that' * N ]\n",
            "Expand: N -> 'flight'\n",
            "    [ 'book' 'that' * 'flight' ]\n",
            "Match: 'flight'\n",
            "    [ 'book' 'that' 'flight' ]\n",
            "GOOD PARSE:\n",
            "    [ 'book' 'that' 'flight' ]\n",
            "(S (VP (V book)) (NP (Det that) (NP (N flight))))\n",
            "Expand: N -> 'flights'\n",
            "    [ 'book' 'that' * 'flights' ]\n",
            "Backtrack: 'flight' match failed\n",
            "Expand: N -> 'book'\n",
            "    [ 'book' 'that' * 'book' ]\n",
            "Backtrack: 'flight' match failed\n",
            "Expand: NP -> PN NP\n",
            "    [ 'book' 'that' * PN NP ]\n",
            "Expand: PN -> 'you'\n",
            "    [ 'book' 'that' * 'you' NP ]\n",
            "Backtrack: 'flight' match failed\n",
            "Expand: PN -> 'TWA'\n",
            "    [ 'book' 'that' * 'TWA' NP ]\n",
            "Backtrack: 'flight' match failed\n",
            "Expand: NP -> Det NP\n",
            "    [ 'book' 'that' * Det NP ]\n",
            "Expand: Det -> 'that'\n",
            "    [ 'book' 'that' * 'that' NP ]\n",
            "Backtrack: 'flight' match failed\n"
          ],
          "name": "stdout"
        }
      ]
    },
    {
      "cell_type": "markdown",
      "metadata": {
        "id": "7nbUiuwLL5tF"
      },
      "source": [
        "Bottom Up Parser: Shift Reduce Parser"
      ]
    },
    {
      "cell_type": "code",
      "metadata": {
        "colab": {
          "base_uri": "https://localhost:8080/"
        },
        "id": "y3FipdnG4z8t",
        "outputId": "34d501fd-8b7f-4a00-a285-81a24b0f0e36"
      },
      "source": [
        "sent3 = \"book that flight\".split()\n",
        "sr_parser = nltk.ShiftReduceParser(grammar, trace=2)\n",
        "for tree in sr_parser.parse(sent3):\n",
        "  print(tree)"
      ],
      "execution_count": 106,
      "outputs": [
        {
          "output_type": "stream",
          "text": [
            "Warning: V -> 'book' will never be used\n",
            "Parsing 'book that flight'\n",
            "    [ * book that flight]\n",
            "  S [ 'book' * that flight]\n",
            "  R [ V * that flight]\n",
            "  R [ VP * that flight]\n",
            "  S [ VP 'that' * flight]\n",
            "  R [ VP Det * flight]\n",
            "  S [ VP Det 'flight' * ]\n",
            "  R [ VP Det N * ]\n",
            "  R [ VP Det NP * ]\n",
            "  R [ VP NP * ]\n",
            "  R [ S * ]\n",
            "(S (VP (V book)) (NP (Det that) (NP (N flight))))\n"
          ],
          "name": "stdout"
        }
      ]
    },
    {
      "cell_type": "code",
      "metadata": {
        "colab": {
          "base_uri": "https://localhost:8080/"
        },
        "id": "OD-puRZe4-6S",
        "outputId": "e0c05610-590c-47e8-b2c7-fd39bcdce128"
      },
      "source": [
        "sent4 = \"can you book TWA flights\".split()\n",
        "sr_parser = nltk.ShiftReduceParser(grammar, trace=2)\n",
        "for tree in sr_parser.parse(sent4):\n",
        "  print(tree)"
      ],
      "execution_count": 107,
      "outputs": [
        {
          "output_type": "stream",
          "text": [
            "Warning: V -> 'book' will never be used\n",
            "Parsing 'can you book TWA flights'\n",
            "    [ * can you book TWA flights]\n",
            "  S [ 'can' * you book TWA flights]\n",
            "  R [ Aux * you book TWA flights]\n",
            "  S [ Aux 'you' * book TWA flights]\n",
            "  R [ Aux PN * book TWA flights]\n",
            "  S [ Aux PN 'book' * TWA flights]\n",
            "  R [ Aux PN V * TWA flights]\n",
            "  R [ Aux PN VP * TWA flights]\n",
            "  R [ VP * TWA flights]\n",
            "  S [ VP 'TWA' * flights]\n",
            "  R [ VP PN * flights]\n",
            "  S [ VP PN 'flights' * ]\n",
            "  R [ VP PN N * ]\n",
            "  R [ VP PN NP * ]\n",
            "  R [ VP NP * ]\n",
            "  R [ S * ]\n",
            "(S\n",
            "  (VP (Aux can) (PN you) (VP (V book)))\n",
            "  (NP (PN TWA) (NP (N flights))))\n"
          ],
          "name": "stdout"
        }
      ]
    },
    {
      "cell_type": "markdown",
      "metadata": {
        "id": "PCk-dT7cMAnG"
      },
      "source": [
        "Top down + Bottom up parser: Chart Parser"
      ]
    },
    {
      "cell_type": "code",
      "metadata": {
        "colab": {
          "base_uri": "https://localhost:8080/"
        },
        "id": "ug5jm1755K_y",
        "outputId": "e1c37389-47ed-40f4-fed4-5748fd328e2c"
      },
      "source": [
        "sent5 = \"book that flight\".split()\n",
        "lc_parser = nltk.parse.LeftCornerChartParser(grammar, trace=2)\n",
        "for tree in lc_parser.parse(sent5):\n",
        "  print(tree)"
      ],
      "execution_count": 108,
      "outputs": [
        {
          "output_type": "stream",
          "text": [
            "|.    book   .    that   .   flight  .|\n",
            "Leaf Init Rule:\n",
            "|[-----------]           .           .| [0:1] 'book'\n",
            "|.           [-----------]           .| [1:2] 'that'\n",
            "|.           .           [-----------]| [2:3] 'flight'\n",
            "Filtered Bottom Up Predict Combine Rule:\n",
            "|[-----------]           .           .| [0:1] V  -> 'book' *\n",
            "|[-----------]           .           .| [0:1] N  -> 'book' *\n",
            "Filtered Bottom Up Predict Combine Rule:\n",
            "|[-----------]           .           .| [0:1] NP -> N *\n",
            "Filtered Bottom Up Predict Combine Rule:\n",
            "|[-----------]           .           .| [0:1] VP -> V *\n",
            "Filtered Bottom Up Predict Combine Rule:\n",
            "|[----------->           .           .| [0:1] S  -> VP * NP\n",
            "Filtered Bottom Up Predict Combine Rule:\n",
            "|.           [-----------]           .| [1:2] Det -> 'that' *\n",
            "Filtered Bottom Up Predict Combine Rule:\n",
            "|.           [----------->           .| [1:2] NP -> Det * NP\n",
            "Filtered Bottom Up Predict Combine Rule:\n",
            "|.           .           [-----------]| [2:3] N  -> 'flight' *\n",
            "Filtered Bottom Up Predict Combine Rule:\n",
            "|.           .           [-----------]| [2:3] NP -> N *\n",
            "Filtered Single Edge Fundamental Rule:\n",
            "|.           [-----------------------]| [1:3] NP -> Det NP *\n",
            "Filtered Single Edge Fundamental Rule:\n",
            "|[===================================]| [0:3] S  -> VP NP *\n",
            "(S (VP (V book)) (NP (Det that) (NP (N flight))))\n"
          ],
          "name": "stdout"
        }
      ]
    },
    {
      "cell_type": "code",
      "metadata": {
        "colab": {
          "base_uri": "https://localhost:8080/"
        },
        "id": "ApbEbAtz5YPi",
        "outputId": "211df3bc-7612-4415-a40e-da19ca6dd5a5"
      },
      "source": [
        "sent6 = \"can you book TWA flights\".split()\n",
        "lc_parser = nltk.parse.LeftCornerChartParser(grammar, trace=2)\n",
        "for tree in lc_parser.parse(sent6):\n",
        "  print(tree)"
      ],
      "execution_count": 109,
      "outputs": [
        {
          "output_type": "stream",
          "text": [
            "|.  can  .  you  .  book .  TWA  .flights.|\n",
            "Leaf Init Rule:\n",
            "|[-------]       .       .       .       .| [0:1] 'can'\n",
            "|.       [-------]       .       .       .| [1:2] 'you'\n",
            "|.       .       [-------]       .       .| [2:3] 'book'\n",
            "|.       .       .       [-------]       .| [3:4] 'TWA'\n",
            "|.       .       .       .       [-------]| [4:5] 'flights'\n",
            "Filtered Bottom Up Predict Combine Rule:\n",
            "|[-------]       .       .       .       .| [0:1] Aux -> 'can' *\n",
            "Filtered Bottom Up Predict Combine Rule:\n",
            "|[------->       .       .       .       .| [0:1] VP -> Aux * PN VP\n",
            "Filtered Bottom Up Predict Combine Rule:\n",
            "|.       [-------]       .       .       .| [1:2] PN -> 'you' *\n",
            "Filtered Bottom Up Predict Combine Rule:\n",
            "|.       [------->       .       .       .| [1:2] NP -> PN * NP\n",
            "Filtered Single Edge Fundamental Rule:\n",
            "|[--------------->       .       .       .| [0:2] VP -> Aux PN * VP\n",
            "Filtered Bottom Up Predict Combine Rule:\n",
            "|.       .       [-------]       .       .| [2:3] V  -> 'book' *\n",
            "|.       .       [-------]       .       .| [2:3] N  -> 'book' *\n",
            "Filtered Bottom Up Predict Combine Rule:\n",
            "|.       .       [-------]       .       .| [2:3] NP -> N *\n",
            "Filtered Single Edge Fundamental Rule:\n",
            "|.       [---------------]       .       .| [1:3] NP -> PN NP *\n",
            "Filtered Bottom Up Predict Combine Rule:\n",
            "|.       .       [-------]       .       .| [2:3] VP -> V *\n",
            "Filtered Bottom Up Predict Combine Rule:\n",
            "|.       .       [------->       .       .| [2:3] S  -> VP * NP\n",
            "Filtered Single Edge Fundamental Rule:\n",
            "|[-----------------------]       .       .| [0:3] VP -> Aux PN VP *\n",
            "Filtered Bottom Up Predict Combine Rule:\n",
            "|[----------------------->       .       .| [0:3] S  -> VP * NP\n",
            "Filtered Bottom Up Predict Combine Rule:\n",
            "|.       .       .       [-------]       .| [3:4] PN -> 'TWA' *\n",
            "Filtered Bottom Up Predict Combine Rule:\n",
            "|.       .       .       [------->       .| [3:4] NP -> PN * NP\n",
            "Filtered Bottom Up Predict Combine Rule:\n",
            "|.       .       .       .       [-------]| [4:5] N  -> 'flights' *\n",
            "Filtered Bottom Up Predict Combine Rule:\n",
            "|.       .       .       .       [-------]| [4:5] NP -> N *\n",
            "Filtered Single Edge Fundamental Rule:\n",
            "|.       .       .       [---------------]| [3:5] NP -> PN NP *\n",
            "Filtered Single Edge Fundamental Rule:\n",
            "|.       .       [-----------------------]| [2:5] S  -> VP NP *\n",
            "|[=======================================]| [0:5] S  -> VP NP *\n",
            "(S\n",
            "  (VP (Aux can) (PN you) (VP (V book)))\n",
            "  (NP (PN TWA) (NP (N flights))))\n"
          ],
          "name": "stdout"
        }
      ]
    }
  ]
}